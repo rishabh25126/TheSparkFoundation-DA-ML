{
  "nbformat": 4,
  "nbformat_minor": 0,
  "metadata": {
    "kernelspec": {
      "display_name": "Python 3",
      "language": "python",
      "name": "python3"
    },
    "language_info": {
      "codemirror_mode": {
        "name": "ipython",
        "version": 3
      },
      "file_extension": ".py",
      "mimetype": "text/x-python",
      "name": "python",
      "nbconvert_exporter": "python",
      "pygments_lexer": "ipython3",
      "version": "3.7.4"
    },
    "colab": {
      "name": "Task # 2 - To Explore Supervised Machine Learning.ipynb",
      "provenance": [],
      "collapsed_sections": []
    }
  },
  "cells": [
    {
      "cell_type": "markdown",
      "metadata": {
        "id": "_Q2T-BiNjMJL",
        "colab_type": "text"
      },
      "source": [
        "**Name:** Rishabh Roy\n",
        "\n",
        "**Phone:** 9111717731\n",
        "\n",
        "**Email:** rishabh25126@gmail.com"
      ]
    },
    {
      "cell_type": "markdown",
      "metadata": {
        "id": "YDUrU90Rrl-u",
        "colab_type": "text"
      },
      "source": [
        "# Task # 2 - To Explore Supervised Machine Learning\n",
        "\n",
        "In this regression task we will predict the percentage of\n",
        "marks that a student is expected to score based upon the\n",
        "number of hours they studied. This is a simple linear\n",
        "regression task as it involves just two variables.\n",
        "\n",
        "Data can be found at http://bit.ly/w-data\n",
        "\n",
        "What will be predicted score if a student study for 9.25 hrs in a\n",
        "day?\n"
      ]
    },
    {
      "cell_type": "markdown",
      "metadata": {
        "id": "6f5cqeMqrl-x",
        "colab_type": "text"
      },
      "source": [
        "## Import all the dependencies"
      ]
    },
    {
      "cell_type": "code",
      "metadata": {
        "id": "7nY42thqrl-z",
        "colab_type": "code",
        "colab": {}
      },
      "source": [
        "import numpy as np\n",
        "import pandas as pd\n",
        "import matplotlib.pyplot as plt"
      ],
      "execution_count": 3,
      "outputs": []
    },
    {
      "cell_type": "markdown",
      "metadata": {
        "id": "Oux2LJZxrl-8",
        "colab_type": "text"
      },
      "source": [
        "## Get the data\n",
        "\n",
        "data url ---> https://raw.githubusercontent.com/AdiPersonalWorks/Random/master/student_scores%20-%20student_scores.csv"
      ]
    },
    {
      "cell_type": "code",
      "metadata": {
        "id": "aSzHav0xrl--",
        "colab_type": "code",
        "colab": {
          "base_uri": "https://localhost:8080/",
          "height": 204
        },
        "outputId": "d6e95aec-1fe6-4aee-f3c5-1c857247e9c6"
      },
      "source": [
        "df = pd.read_csv('https://raw.githubusercontent.com/AdiPersonalWorks/Random/master/student_scores%20-%20student_scores.csv')\n",
        "df.head()"
      ],
      "execution_count": 4,
      "outputs": [
        {
          "output_type": "execute_result",
          "data": {
            "text/html": [
              "<div>\n",
              "<style scoped>\n",
              "    .dataframe tbody tr th:only-of-type {\n",
              "        vertical-align: middle;\n",
              "    }\n",
              "\n",
              "    .dataframe tbody tr th {\n",
              "        vertical-align: top;\n",
              "    }\n",
              "\n",
              "    .dataframe thead th {\n",
              "        text-align: right;\n",
              "    }\n",
              "</style>\n",
              "<table border=\"1\" class=\"dataframe\">\n",
              "  <thead>\n",
              "    <tr style=\"text-align: right;\">\n",
              "      <th></th>\n",
              "      <th>Hours</th>\n",
              "      <th>Scores</th>\n",
              "    </tr>\n",
              "  </thead>\n",
              "  <tbody>\n",
              "    <tr>\n",
              "      <th>0</th>\n",
              "      <td>2.5</td>\n",
              "      <td>21</td>\n",
              "    </tr>\n",
              "    <tr>\n",
              "      <th>1</th>\n",
              "      <td>5.1</td>\n",
              "      <td>47</td>\n",
              "    </tr>\n",
              "    <tr>\n",
              "      <th>2</th>\n",
              "      <td>3.2</td>\n",
              "      <td>27</td>\n",
              "    </tr>\n",
              "    <tr>\n",
              "      <th>3</th>\n",
              "      <td>8.5</td>\n",
              "      <td>75</td>\n",
              "    </tr>\n",
              "    <tr>\n",
              "      <th>4</th>\n",
              "      <td>3.5</td>\n",
              "      <td>30</td>\n",
              "    </tr>\n",
              "  </tbody>\n",
              "</table>\n",
              "</div>"
            ],
            "text/plain": [
              "   Hours  Scores\n",
              "0    2.5      21\n",
              "1    5.1      47\n",
              "2    3.2      27\n",
              "3    8.5      75\n",
              "4    3.5      30"
            ]
          },
          "metadata": {
            "tags": []
          },
          "execution_count": 4
        }
      ]
    },
    {
      "cell_type": "markdown",
      "metadata": {
        "id": "84AQO3Wrrl_K",
        "colab_type": "text"
      },
      "source": [
        "## Explore the data"
      ]
    },
    {
      "cell_type": "markdown",
      "metadata": {
        "id": "BXLb1dMsrl_M",
        "colab_type": "text"
      },
      "source": [
        "Shape of the data"
      ]
    },
    {
      "cell_type": "code",
      "metadata": {
        "id": "8zWNkY3erl_O",
        "colab_type": "code",
        "colab": {
          "base_uri": "https://localhost:8080/",
          "height": 34
        },
        "outputId": "3fa8ea4e-a5fd-4ce3-9df2-2af08ba33f74"
      },
      "source": [
        "df.shape"
      ],
      "execution_count": 5,
      "outputs": [
        {
          "output_type": "execute_result",
          "data": {
            "text/plain": [
              "(25, 2)"
            ]
          },
          "metadata": {
            "tags": []
          },
          "execution_count": 5
        }
      ]
    },
    {
      "cell_type": "markdown",
      "metadata": {
        "id": "QocvAk2FrmAZ",
        "colab_type": "text"
      },
      "source": [
        "Our data contains 25 rows and 2 columns\n",
        "Let's get the name of the columns"
      ]
    },
    {
      "cell_type": "code",
      "metadata": {
        "id": "XGaWtbonrmAb",
        "colab_type": "code",
        "colab": {
          "base_uri": "https://localhost:8080/",
          "height": 34
        },
        "outputId": "49d22f97-c35d-462d-9315-b50ea95c799a"
      },
      "source": [
        "df.columns"
      ],
      "execution_count": 6,
      "outputs": [
        {
          "output_type": "execute_result",
          "data": {
            "text/plain": [
              "Index(['Hours', 'Scores'], dtype='object')"
            ]
          },
          "metadata": {
            "tags": []
          },
          "execution_count": 6
        }
      ]
    },
    {
      "cell_type": "markdown",
      "metadata": {
        "id": "d80dPHJ7UMQe",
        "colab_type": "text"
      },
      "source": [
        "Pandas .info() function is used to get a concise summary of the dataframe. It comes really handy when doing exploratory analysis of the data. To get a quick overview of the dataset we use the .info() function."
      ]
    },
    {
      "cell_type": "code",
      "metadata": {
        "id": "du9fwALbURG3",
        "colab_type": "code",
        "colab": {
          "base_uri": "https://localhost:8080/",
          "height": 170
        },
        "outputId": "149adc5d-063b-44fd-9ec5-518fc760ab90"
      },
      "source": [
        "df.info()"
      ],
      "execution_count": 7,
      "outputs": [
        {
          "output_type": "stream",
          "text": [
            "<class 'pandas.core.frame.DataFrame'>\n",
            "RangeIndex: 25 entries, 0 to 24\n",
            "Data columns (total 2 columns):\n",
            " #   Column  Non-Null Count  Dtype  \n",
            "---  ------  --------------  -----  \n",
            " 0   Hours   25 non-null     float64\n",
            " 1   Scores  25 non-null     int64  \n",
            "dtypes: float64(1), int64(1)\n",
            "memory usage: 528.0 bytes\n"
          ],
          "name": "stdout"
        }
      ]
    },
    {
      "cell_type": "markdown",
      "metadata": {
        "id": "kL3yTegjrmAm",
        "colab_type": "text"
      },
      "source": [
        "## Cleaning the data\n",
        "Let's check if out data has any null values."
      ]
    },
    {
      "cell_type": "code",
      "metadata": {
        "id": "zaD0nRV3rmAp",
        "colab_type": "code",
        "colab": {
          "base_uri": "https://localhost:8080/",
          "height": 68
        },
        "outputId": "e6124155-477e-40f6-85e2-966c5ef450a2"
      },
      "source": [
        "df.isnull().any()"
      ],
      "execution_count": 8,
      "outputs": [
        {
          "output_type": "execute_result",
          "data": {
            "text/plain": [
              "Hours     False\n",
              "Scores    False\n",
              "dtype: bool"
            ]
          },
          "metadata": {
            "tags": []
          },
          "execution_count": 8
        }
      ]
    },
    {
      "cell_type": "markdown",
      "metadata": {
        "id": "qS2Qb4OWrmAz",
        "colab_type": "text"
      },
      "source": [
        "Oh, our data has no null values."
      ]
    },
    {
      "cell_type": "markdown",
      "metadata": {
        "id": "--kPQKLErmA1",
        "colab_type": "text"
      },
      "source": [
        "## Visualizing the data\n",
        "The most important part of data analytics is analyse the data and visualise the data. Data visualisation is the graphic representation of data. Let’s see how our data looks..\n",
        "\n",
        "We will visualise our data using matplotlib library that we have imported earlier"
      ]
    },
    {
      "cell_type": "code",
      "metadata": {
        "id": "BP_4Ql2brmA2",
        "colab_type": "code",
        "colab": {
          "base_uri": "https://localhost:8080/",
          "height": 295
        },
        "outputId": "8105a023-b6d8-407d-eb68-d5e44892bbd1"
      },
      "source": [
        "plt.scatter(df[['Hours']], df['Scores'])\n",
        "plt.title(\"Student Scores\") # set title of plot\n",
        "plt.xlabel('Hours') # setting x label\n",
        "plt.ylabel('Scores') # setting y label\n",
        "plt.show()"
      ],
      "execution_count": 9,
      "outputs": [
        {
          "output_type": "display_data",
          "data": {
            "image/png": "[encoded data removed]",
            "text/plain": [
              "<Figure size 432x288 with 1 Axes>"
            ]
          },
          "metadata": {
            "tags": [],
            "needs_background": "light"
          }
        }
      ]
    },
    {
      "cell_type": "markdown",
      "metadata": {
        "id": "q990fbCArqJW",
        "colab_type": "text"
      },
      "source": [
        "## Preparing data for ML model\n",
        "Lets store out features and target value in input, target variables respectively."
      ]
    },
    {
      "cell_type": "code",
      "metadata": {
        "id": "n0fNpggkrmCL",
        "colab_type": "code",
        "colab": {}
      },
      "source": [
        "input = df[['Hours']].values\n",
        "target = df[['Scores']].values"
      ],
      "execution_count": 10,
      "outputs": []
    },
    {
      "cell_type": "markdown",
      "metadata": {
        "id": "OrJLdr5cuA83",
        "colab_type": "text"
      },
      "source": [
        "Now we have to split out dataset into tain set and test set.\n",
        "Training Data: "
      ]
    },
    {
      "cell_type": "code",
      "metadata": {
        "id": "ZTpKUxK3sbiT",
        "colab_type": "code",
        "colab": {
          "base_uri": "https://localhost:8080/",
          "height": 34
        },
        "outputId": "9d5d6901-601c-46a5-9c44-aab0fc191c4a"
      },
      "source": [
        "from sklearn.model_selection import train_test_split\n",
        "X_train, X_test, y_train, y_test = train_test_split(input, target, test_size=0.2, random_state=1)\n",
        "print(\"Training size: {} , Testing size: {}\".format(len(X_train), len(X_test)))"
      ],
      "execution_count": 11,
      "outputs": [
        {
          "output_type": "stream",
          "text": [
            "Training size: 20 , Testing size: 5\n"
          ],
          "name": "stdout"
        }
      ]
    },
    {
      "cell_type": "markdown",
      "metadata": {
        "id": "rR8I0ebOwKYA",
        "colab_type": "text"
      },
      "source": [
        "## Simple Linear Regression\n",
        "Linear Regression is a linear approach to modeling the relationship between a scalar response (or dependent variable) and one or more explanatory variables (or independent variables). The case of one explanatory variable is called ***Simple Linear Regression***.\n",
        "\n",
        "Scikit-Learn offers pre build class of linear regression. Let's see how it works.."
      ]
    },
    {
      "cell_type": "code",
      "metadata": {
        "id": "FNe4LcWsv7dG",
        "colab_type": "code",
        "colab": {}
      },
      "source": [
        "from sklearn.linear_model import LinearRegression"
      ],
      "execution_count": 12,
      "outputs": []
    },
    {
      "cell_type": "markdown",
      "metadata": {
        "id": "WKQB0KrFVCAw",
        "colab_type": "text"
      },
      "source": [
        "Defining our Linear Regression model"
      ]
    },
    {
      "cell_type": "code",
      "metadata": {
        "id": "GFw4lPTHwUYO",
        "colab_type": "code",
        "colab": {}
      },
      "source": [
        "model = LinearRegression()"
      ],
      "execution_count": 13,
      "outputs": []
    },
    {
      "cell_type": "markdown",
      "metadata": {
        "id": "1WMXCqq3VKzZ",
        "colab_type": "text"
      },
      "source": [
        "To train our model we will use .fit() method that takes 2 parameters--> (inputs, targets)"
      ]
    },
    {
      "cell_type": "code",
      "metadata": {
        "id": "c9EJcJgxwXQu",
        "colab_type": "code",
        "colab": {
          "base_uri": "https://localhost:8080/",
          "height": 34
        },
        "outputId": "c61df6f9-6743-453d-927c-075e2127f8db"
      },
      "source": [
        "model.fit(X_train, y_train)"
      ],
      "execution_count": 14,
      "outputs": [
        {
          "output_type": "execute_result",
          "data": {
            "text/plain": [
              "LinearRegression(copy_X=True, fit_intercept=True, n_jobs=None, normalize=False)"
            ]
          },
          "metadata": {
            "tags": []
          },
          "execution_count": 14
        }
      ]
    },
    {
      "cell_type": "markdown",
      "metadata": {
        "id": "BI9IC003Vj0e",
        "colab_type": "text"
      },
      "source": [
        "Our model has been trained successfully.\n",
        "\n",
        "\n",
        "Now lets use our model to predict test data.. "
      ]
    },
    {
      "cell_type": "code",
      "metadata": {
        "id": "KeEXMxQKVdrl",
        "colab_type": "code",
        "colab": {
          "base_uri": "https://localhost:8080/",
          "height": 102
        },
        "outputId": "5b197baa-3494-4ccd-ad6f-a03109a0e745"
      },
      "source": [
        "pred = model.predict(X_test)\n",
        "pred"
      ],
      "execution_count": 15,
      "outputs": [
        {
          "output_type": "execute_result",
          "data": {
            "text/plain": [
              "array([[ 9.97026179],\n",
              "       [32.98470004],\n",
              "       [18.33914843],\n",
              "       [87.38246316],\n",
              "       [48.67636248]])"
            ]
          },
          "metadata": {
            "tags": []
          },
          "execution_count": 15
        }
      ]
    },
    {
      "cell_type": "markdown",
      "metadata": {
        "id": "ZVuPuVQGXATU",
        "colab_type": "text"
      },
      "source": [
        "Lets visualise how our model is predicting.."
      ]
    },
    {
      "cell_type": "code",
      "metadata": {
        "id": "MvXHDNiXWXiF",
        "colab_type": "code",
        "colab": {
          "base_uri": "https://localhost:8080/",
          "height": 295
        },
        "outputId": "57514510-9460-43dc-ad12-3e037ca28955"
      },
      "source": [
        "plt.scatter(df[['Hours']], df['Scores'], label=\"Data\")\n",
        "plt.plot(X_test, pred,\"r-\", label=\"Prediction\")\n",
        "plt.legend()\n",
        "plt.title(\"Student Scores\") # set title of plot\n",
        "plt.xlabel('Hours') # setting x label\n",
        "plt.ylabel('Scores') # setting y label\n",
        "plt.show()"
      ],
      "execution_count": 22,
      "outputs": [
        {
          "output_type": "display_data",
          "data": {
            "image/png": "[encoded data removed]",
            "text/plain": [
              "<Figure size 432x288 with 1 Axes>"
            ]
          },
          "metadata": {
            "tags": [],
            "needs_background": "light"
          }
        }
      ]
    },
    {
      "cell_type": "markdown",
      "metadata": {
        "id": "dUHOMf5GiOrq",
        "colab_type": "text"
      },
      "source": [
        "The blue dots is our data and red line is our model's prediction."
      ]
    },
    {
      "cell_type": "markdown",
      "metadata": {
        "id": "3OWjdwtuVxsD",
        "colab_type": "text"
      },
      "source": [
        "To find out how much accurate our model is we will use .score() method.."
      ]
    },
    {
      "cell_type": "code",
      "metadata": {
        "id": "4pJxGsd6wlCO",
        "colab_type": "code",
        "colab": {
          "base_uri": "https://localhost:8080/",
          "height": 34
        },
        "outputId": "2f66eadd-cdba-4b97-d117-f8f1f102dbe7"
      },
      "source": [
        "model.score(X_test, y_test)"
      ],
      "execution_count": 17,
      "outputs": [
        {
          "output_type": "execute_result",
          "data": {
            "text/plain": [
              "0.8421031525243527"
            ]
          },
          "metadata": {
            "tags": []
          },
          "execution_count": 17
        }
      ]
    },
    {
      "cell_type": "markdown",
      "metadata": {
        "id": "wCulQbpwibZ6",
        "colab_type": "text"
      },
      "source": [
        "Now let's predict the score if a student study for 9.25 hrs in a day..."
      ]
    },
    {
      "cell_type": "code",
      "metadata": {
        "id": "TI5yv20hw4pW",
        "colab_type": "code",
        "colab": {
          "base_uri": "https://localhost:8080/",
          "height": 34
        },
        "outputId": "b846386b-4d62-46ba-e091-5099cbd9453d"
      },
      "source": [
        "result = model.predict([[9.25]])\n",
        "print(\"The student score would be: \",result[0][0] )"
      ],
      "execution_count": 24,
      "outputs": [
        {
          "output_type": "stream",
          "text": [
            "The student score would be:  95.22829438402952\n"
          ],
          "name": "stdout"
        }
      ]
    },
    {
      "cell_type": "code",
      "metadata": {
        "id": "6b6HMlycxvst",
        "colab_type": "code",
        "colab": {}
      },
      "source": [
        ""
      ],
      "execution_count": 18,
      "outputs": []
    }
  ]
}